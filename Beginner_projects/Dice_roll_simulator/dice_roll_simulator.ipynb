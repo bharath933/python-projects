{
 "cells": [
  {
   "cell_type": "code",
   "execution_count": 1,
   "metadata": {},
   "outputs": [],
   "source": [
    "import random"
   ]
  },
  {
   "cell_type": "code",
   "execution_count": 2,
   "metadata": {},
   "outputs": [],
   "source": [
    "min_value = 1\n",
    "max_value = 6"
   ]
  },
  {
   "cell_type": "code",
   "execution_count": 3,
   "metadata": {},
   "outputs": [],
   "source": [
    "dice_roll = \"yes\""
   ]
  },
  {
   "cell_type": "code",
   "execution_count": null,
   "metadata": {},
   "outputs": [
    {
     "name": "stdout",
     "output_type": "stream",
     "text": [
      "rolling the dice \n",
      " the values are\n",
      "first dice value is 2\n",
      "second dice value is 2\n",
      "Roll the Dices Again? type 'yes' or 'y' y\n",
      "rolling the dice \n",
      " the values are\n",
      "first dice value is 2\n",
      "second dice value is 2\n",
      "Roll the Dices Again? type 'yes' or 'y' y\n",
      "rolling the dice \n",
      " the values are\n",
      "first dice value is 2\n",
      "second dice value is 6\n"
     ]
    }
   ],
   "source": [
    "while dice_roll == \"yes\" or \"Y\":\n",
    "\n",
    "    print(\"rolling the dice \\n the values are\")\n",
    "\n",
    "    print(f\"first dice value is {random.randint(min_value,max_value)}\")\n",
    "\n",
    "    print(f\"second dice value is {random.randint(min_value, max_value)}\")\n",
    "\n",
    "    roll_again = input(\"Roll the Dices Again? type 'yes' or 'y' \")"
   ]
  },
  {
   "cell_type": "code",
   "execution_count": null,
   "metadata": {},
   "outputs": [],
   "source": []
  }
 ],
 "metadata": {
  "kernelspec": {
   "display_name": "Python 3",
   "language": "python",
   "name": "python3"
  },
  "language_info": {
   "codemirror_mode": {
    "name": "ipython",
    "version": 3
   },
   "file_extension": ".py",
   "mimetype": "text/x-python",
   "name": "python",
   "nbconvert_exporter": "python",
   "pygments_lexer": "ipython3",
   "version": "3.8.3"
  }
 },
 "nbformat": 4,
 "nbformat_minor": 4
}
